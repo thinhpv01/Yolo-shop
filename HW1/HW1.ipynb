{
 "cells": [
  {
   "cell_type": "markdown",
   "metadata": {
    "Collapsed": "false"
   },
   "source": [
    "# HW1: Thu thập dữ liệu\n",
    "(Cập nhật lần cuối: 29/06/2021)\n",
    "\n",
    "Họ tên: Trần Đại Chí\n",
    "\n",
    "MSSV: 18127070"
   ]
  },
  {
   "cell_type": "markdown",
   "metadata": {
    "Collapsed": "false"
   },
   "source": [
    "---"
   ]
  },
  {
   "cell_type": "markdown",
   "metadata": {
    "Collapsed": "false"
   },
   "source": [
    "## Cách làm bài và nộp bài (bạn cần đọc kỹ)"
   ]
  },
  {
   "cell_type": "markdown",
   "metadata": {
    "Collapsed": "false"
   },
   "source": [
    "&#9889; Bạn lưu ý là mình sẽ dùng chương trình hỗ trợ chấm bài nên bạn cần phải tuân thủ chính xác qui định mà mình đặt ra, nếu không rõ thì hỏi, chứ không nên tự tiện làm theo ý của cá nhân.\n",
    "\n",
    "**Cách làm bài**\n",
    "\n",
    "Bạn sẽ làm trực tiếp trên file notebook này. Đầu tiên, bạn điền họ tên và MSSV vào phần đầu file ở bên trên. Trong file, bạn làm bài ở những chỗ có ghi là:\n",
    "```python\n",
    "# YOUR CODE HERE\n",
    "raise NotImplementedError()\n",
    "```\n",
    "hoặc đối với những phần code không bắt buộc thì là:\n",
    "```python\n",
    "# YOUR CODE HERE (OPTION)\n",
    "```\n",
    "hoặc đối với markdown cell thì là:\n",
    "```markdown\n",
    "YOUR ANSWER HERE\n",
    "```\n",
    "Tất nhiên, khi làm thì bạn xóa dòng `raise NotImplementedError()` đi.\n",
    "Đối những phần yêu cầu code thì thường ở ngay phía dưới sẽ có một (hoặc một số) cell chứa các bộ test để giúp bạn biết đã code đúng hay chưa; nếu chạy cell này không có lỗi gì thì có nghĩa là qua được các bộ test. Trong một số trường hợp, các bộ test có thể sẽ không đầy đủ; nghĩa là, nếu không qua được test thì là code sai, nhưng nếu qua được test thì chưa chắc đã đúng.\n",
    "\n",
    "Trong khi làm bài, bạn có thể cho in ra màn hình, tạo thêm các cell để test. Nhưng khi nộp bài thì bạn xóa các cell mà bạn tự tạo, xóa hoặc comment các câu lệnh in ra màn hình. Bạn lưu ý <font color=red>không được tự tiện xóa các cell hay sửa code của Thầy</font> (trừ những chỗ được phép sửa như đã nói ở trên).\n",
    "\n",
    "Trong khi làm bài, thường xuyên `Ctrl + S` để lưu lại bài làm của bạn, tránh mất mát thông tin.\n",
    "\n",
    "\n",
    "*Nên nhớ mục tiêu chính ở đây là <font color=green>học, học một cách chân thật</font>. Bạn có thể thảo luận ý tưởng với bạn khác cũng như tham khảo các nguồn trên mạng, nhưng sau cùng <font color=green>code và bài làm phải là của bạn, dựa trên sự hiểu thật sự của bạn</font>. Khi tham khảo các nguồn trên mạng thì bạn cần ghi rõ nguồn trong bài làm. Bạn không được tham khảo bài làm của các bạn năm trước (vì nếu làm vậy thì bao giờ bạn mới có thể tự mình suy nghĩ để giải quyết vấn đề); sau khi kết thúc môn học, bạn cũng không được đưa bài làm cho các bạn khóa sau hoặc public bài làm trên Github (vì nếu làm vậy thì sẽ ảnh hưởng tới việc học của các bạn khóa sau). Nếu bạn có thể làm theo những gì mình nói thì điểm của bạn có thể sẽ không cao nhưng bạn sẽ có được những bước tiến thật sự. <font color=red>Trong trường hợp bạn vi phạm những điều mình nói ở trên thì sẽ bị 0 điểm cho toàn bộ môn học.</font>*\n",
    "\n",
    "**Cách nộp bài**\n",
    "\n",
    "Khi chấm bài, đầu tiên mình sẽ chọn `Kernel` - `Restart & Run All`, để restart và chạy tất cả các cell trong notebook của bạn; do đó, trước khi nộp bài, bạn nên chạy thử `Kernel` - `Restart & Run All` để đảm bảo mọi chuyện diễn ra đúng như mong đợi.\n",
    "\n",
    "Sau đó, bạn tạo thư mục nộp bài theo cấu trúc sau:\n",
    "- Thư mục `MSSV` (vd, nếu bạn có MSSV là 1234567 thì bạn đặt tên thư mục là `1234567`)\n",
    "    - File `HW1.ipynb` (không cần nộp các file khác)\n",
    "\n",
    "Cuối cùng, bạn nén thư mục `MSSV` này lại và nộp ở link trên moodle. Đuôi của file nén phải là .zip (chứ không được .rar hay gì khác).\n",
    "\n",
    "<font color=red>Bạn lưu ý tuân thủ chính xác qui định nộp bài ở trên.</font>"
   ]
  },
  {
   "cell_type": "markdown",
   "metadata": {
    "Collapsed": "false"
   },
   "source": [
    "---"
   ]
  },
  {
   "cell_type": "markdown",
   "metadata": {},
   "source": [
    "## Môi trường code"
   ]
  },
  {
   "cell_type": "markdown",
   "metadata": {},
   "source": [
    "Ta thống nhất trong môn này: dùng phiên bản các package như trong file \"min_ds-env.yml\" (file này đã được cập nhật một số lần, file mới nhất ở đầu có dòng: \"Last update: 24/06/2021\"). Cách tạo ra môi trường code từ file \"min_ds-env.yml\" đã được nói ở file \"02_BeforeClass-Notebook_Python.pdf\"."
   ]
  },
  {
   "cell_type": "markdown",
   "metadata": {},
   "source": [
    "Check môi trường code:"
   ]
  },
  {
   "cell_type": "code",
   "execution_count": 1,
   "metadata": {},
   "outputs": [
    {
     "data": {
      "text/plain": [
       "'c:\\\\program files\\\\python36\\\\python.exe'"
      ]
     },
     "execution_count": 1,
     "metadata": {},
     "output_type": "execute_result"
    }
   ],
   "source": [
    "import sys\n",
    "sys.executable"
   ]
  },
  {
   "cell_type": "markdown",
   "metadata": {},
   "source": [
    "Nếu không có vấn đề gì thì file chạy python sẽ là file của môi trường code \"min_ds-env\"."
   ]
  },
  {
   "cell_type": "markdown",
   "metadata": {
    "Collapsed": "false"
   },
   "source": [
    "---"
   ]
  },
  {
   "cell_type": "markdown",
   "metadata": {
    "Collapsed": "false"
   },
   "source": [
    "## Import"
   ]
  },
  {
   "cell_type": "code",
   "execution_count": 3,
   "metadata": {
    "Collapsed": "false"
   },
   "outputs": [],
   "source": [
    "import requests\n",
    "import requests_cache\n",
    "from bs4 import BeautifulSoup\n",
    "import time\n",
    "import json\n",
    "import re\n",
    "import pandas # Dùng để đọc và hiển thị file csv/tsv\n",
    "from datetime import datetime, timedelta # Dùng để xử lý dữ liệu thời gian\n",
    "# YOUR CODE HERE (OPTION) \n",
    "# Nếu cần các thư viện khác thì bạn có thể import ở đây"
   ]
  },
  {
   "cell_type": "markdown",
   "metadata": {
    "Collapsed": "false"
   },
   "source": [
    "---"
   ]
  },
  {
   "cell_type": "markdown",
   "metadata": {},
   "source": [
    "## Setup ở mức toàn cục (1đ)"
   ]
  },
  {
   "cell_type": "markdown",
   "metadata": {},
   "source": [
    "Trong bài này, sẽ có hai bài con: một bài là thu thập dữ liệu từ web bằng cách parse HTML, một bài là dùng web API. Khi parse HTML, để tránh \"hit\" trang web nhiều lần trong một khoảng thời gian ngắn thì bạn sẽ cho chương trình sleep giữa các lần thực hiện request. Khi dùng web API thì không cần cho sleep giữa các lần thực hiện request nhưng sẽ cần sleep ở một chỗ khác (ở chỗ nào thì sẽ rõ khi đến phần dùng web API). Tóm lại là: trong các phần code mà bạn sắp sửa làm thì sẽ cần cho chương trình sleep. Như vậy, đầu tiên, bạn sẽ setup biến `sleep_time` toàn cục (nói là toàn cục nhưng thật ra chỉ cần biến bình thường thôi) để qui định số giây mà chương trình sẽ sleep (trong bài này cho 1 giây). Trong các hàm thì bạn có thể truy xuất được biến `sleep_time` này. Vì phần này rất khó nên mình sẽ làm luôn cho bạn ;-)."
   ]
  },
  {
   "cell_type": "code",
   "execution_count": 4,
   "metadata": {},
   "outputs": [],
   "source": [
    "sleep_time = 1 # Đơn vị: giây"
   ]
  },
  {
   "cell_type": "markdown",
   "metadata": {},
   "source": [
    "Xong rồi đó ;-)."
   ]
  },
  {
   "cell_type": "markdown",
   "metadata": {},
   "source": [
    "Ngoài biến `sleep_time` thì bạn cũng cần setup/install cache để giúp giảm số lần phải lấy dữ liệu từ trên mạng xuống. Bạn setup cache như sau:\n",
    "\n",
    "- Cho thời gian hết hạn cache là không bao giờ hết hạn.\n",
    "- Không cache những response (kết quả khi thực hiện `requests.get`) mà trong thuộc tính `text` có chứa chuỗi `\"incomplete_results\":true` (tại sao làm như vậy thì sẽ rõ khi đến phần dùng web API). Gợi ý: trong hàm `requests_cache.install` có tham số `filter_fn`; bạn có thể truyền vào tham số này một hàm mà có input là đối tượng response và trả về True nếu bạn muốn cache lại và False nếu không muốn."
   ]
  },
  {
   "cell_type": "code",
   "execution_count": 5,
   "metadata": {
    "deletable": false,
    "nbgrader": {
     "cell_type": "code",
     "checksum": "3eeb9e20d0972c06ea393c9a86aff5f8",
     "grade": false,
     "grade_id": "cell-1358ef1480a7a7e7",
     "locked": false,
     "schema_version": 3,
     "solution": true,
     "task": false
    }
   },
   "outputs": [],
   "source": [
    "# YOUR CODE HERE\n",
    "#raise NotImplementedError()\n",
    "def check_text(response):\n",
    "    substring = '\"incomplete_results\":true'\n",
    "    if substring in response.text:\n",
    "        response.from_cache = False\n",
    "    return response\n",
    "requests_cache.install_cache(expire_after=None, filter_fn = check_text)"
   ]
  },
  {
   "cell_type": "code",
   "execution_count": 6,
   "metadata": {
    "deletable": false,
    "editable": false,
    "nbgrader": {
     "cell_type": "code",
     "checksum": "f03e0336445ec86f040bb4fc44cf776f",
     "grade": true,
     "grade_id": "cell-28ff73aab7086390",
     "locked": true,
     "points": 1,
     "schema_version": 3,
     "solution": false,
     "task": false
    }
   },
   "outputs": [
    {
     "name": "stdout",
     "output_type": "stream",
     "text": [
      "Text from url1:\n",
      "abc\n",
      "xyz\n",
      "\"incomplete_results\":false\n",
      "\n",
      "---\n",
      "Text from url2:\n",
      "abc\n",
      "xyz\n",
      "\"incomplete_results\":true\n",
      "\n"
     ]
    }
   ],
   "source": [
    "# TEST\n",
    "url1 = 'https://raw.githubusercontent.com/KienTrann/requests-cache-testing/main/should_be_cached.txt'\n",
    "r = requests.get(url1) # Thực hiện request lần 1\n",
    "r = requests.get(url1) # Thực hiện request lần 2\n",
    "print(f'Text from url1:\\n{r.text}')\n",
    "assert r.from_cache == True\n",
    "\n",
    "url2 = 'https://raw.githubusercontent.com/KienTrann/requests-cache-testing/main/should_not_be_cached.txt'\n",
    "r = requests.get(url2) # Thực hiện request lần 1\n",
    "r = requests.get(url2) # Thực hiện request lần 2\n",
    "print('---')\n",
    "print(f'Text from url2:\\n{r.text}')\n",
    "assert r.from_cache == False"
   ]
  },
  {
   "cell_type": "markdown",
   "metadata": {
    "Collapsed": "false"
   },
   "source": [
    "---"
   ]
  },
  {
   "cell_type": "markdown",
   "metadata": {
    "Collapsed": "false"
   },
   "source": [
    "## Thu thập dữ liệu từ web bằng cách parse HTML (4đ)"
   ]
  },
  {
   "cell_type": "markdown",
   "metadata": {
    "Collapsed": "false"
   },
   "source": [
    "[Coursera](https://coursera.org) là trang cung cấp các khóa học online, là một nguồn tài liệu hữu ích để học tập. Trong phần này, bạn sẽ thu thập dữ liệu về các khóa học ở Coursera về một chủ đề nào đó. Mình có check [\"Terms of Use\" của Coursera](https://www.coursera.org/about/terms) thì không thấy nói rõ là cấm parse HTML (bạn check lại thử xem); với mục đích học thì chắc là không có vấn đề gì lớn, miễn là chương trình của bạn đừng \"hit\" trang web quá nhiều lần trong một khoảng thời gian ngắn. \n",
    "\n",
    "Công việc cụ thể của bạn trong phần này là viết hàm `collect_courses` ở bên dưới. Hàm này có các input như sau:\n",
    "- `course_urls_file`: là chuỗi, cho biết tên của file txt chứa các đường link đến tất cả khóa học của Coursera, mỗi đường link nằm trên một dòng; bạn sẽ đi theo đường link để lấy thông tin của khóa học. File này đã được cung cấp cho bạn: file \"course_urls.txt\" (mình tạo ra file này bằng cách parse [trang XML này](https://www.coursera.org/sitemap~www~courses.xml)).\n",
    "- `key_words`: là list, cho biết các từ khóa để lọc ra các link cần lấy. Ví dụ: `key_words=['data-science', 'datascience']` sẽ chỉ thu thập thông tin từ các link mà có từ \"data-science\" HOẶC \"datascience\" (có ở tên đường link, chẳng hạn: https://www.coursera.org/learn/spatial-data-science).\n",
    "- `courses_file`: là chuỗi, cho biết tên của file tsv dùng để lưu dữ liệu thu thập được; đây là file output (file này không có sẵn mà sẽ được tạo ra sau khi chạy hàm của bạn). Mình có cung cấp file output đúng \"correct_courses.tsv\" (khi gọi hàm `collect_courses` với `key_words=['data-science', 'datascience']`) để bạn hình dung được nội dung cần có của file output. File này có các phần tử trên mỗi dòng được phân tách nhau bởi tab (`\\t`), và file này mã hóa utf-8. File này gồm có các cột:\n",
    "    - `url`: đường link đến khóa học.\n",
    "    - `title`: tựa đề của khóa học.\n",
    "    - `provider`: trường cung cấp khóa học.\n",
    "    - `rating`: điểm số của khóa học (tại thời điểm bạn thu thập dữ liệu thì giá trị của cột này có thể sẽ hơi khác so với file output đúng của mình, trong trường hợp chưa có ai rate khóa học thì bạn có thể cho `rating` bằng `None`).\n",
    "    - `num_ratings`: số lượng người đã cho điểm cho khóa học (tại thời điểm bạn thu thập dữ liệu thì giá trị của cột này có thể sẽ hơi khác so với file output đúng của mình, trong trường hợp chưa có ai rate khóa học thì bạn có thể cho `num_rating` bằng `None`).\n",
    "\n",
    "Trong hàm này, khi thực hiện một request, nếu kết quả không được lấy từ cache thì bạn cần cho chương trình sleep rồi mới tiếp tục."
   ]
  },
  {
   "cell_type": "code",
   "execution_count": 7,
   "metadata": {},
   "outputs": [
    {
     "data": {
      "text/html": [
       "<div>\n",
       "<style scoped>\n",
       "    .dataframe tbody tr th:only-of-type {\n",
       "        vertical-align: middle;\n",
       "    }\n",
       "\n",
       "    .dataframe tbody tr th {\n",
       "        vertical-align: top;\n",
       "    }\n",
       "\n",
       "    .dataframe thead th {\n",
       "        text-align: right;\n",
       "    }\n",
       "</style>\n",
       "<table border=\"1\" class=\"dataframe\">\n",
       "  <thead>\n",
       "    <tr style=\"text-align: right;\">\n",
       "      <th></th>\n",
       "      <th>url</th>\n",
       "      <th>title</th>\n",
       "      <th>provider</th>\n",
       "      <th>rating</th>\n",
       "      <th>num_ratings</th>\n",
       "    </tr>\n",
       "  </thead>\n",
       "  <tbody>\n",
       "    <tr>\n",
       "      <th>0</th>\n",
       "      <td>https://www.coursera.org/learn/advanced-clinic...</td>\n",
       "      <td>Advanced Clinical Data Science</td>\n",
       "      <td>University of Colorado System</td>\n",
       "      <td>None</td>\n",
       "      <td>None</td>\n",
       "    </tr>\n",
       "    <tr>\n",
       "      <th>1</th>\n",
       "      <td>https://www.coursera.org/learn/advanced-data-s...</td>\n",
       "      <td>Advanced Data Science Capstone</td>\n",
       "      <td>IBM</td>\n",
       "      <td>4.6</td>\n",
       "      <td>355</td>\n",
       "    </tr>\n",
       "    <tr>\n",
       "      <th>2</th>\n",
       "      <td>https://www.coursera.org/learn/applied-data-sc...</td>\n",
       "      <td>Applied Data Science Capstone</td>\n",
       "      <td>IBM</td>\n",
       "      <td>4.7</td>\n",
       "      <td>5,401</td>\n",
       "    </tr>\n",
       "    <tr>\n",
       "      <th>3</th>\n",
       "      <td>https://www.coursera.org/learn/applied-data-sc...</td>\n",
       "      <td>ÙØ§Ø¨Ø³ØªÙÙ Ø¹ÙÙÙ",
       " Ø§ÙØ¨ÙØ§ÙØ§Øª Ø§ÙØ...</td>\n",
       "      <td>IBM</td>\n",
       "      <td>None</td>\n",
       "      <td>None</td>\n",
       "    </tr>\n",
       "    <tr>\n",
       "      <th>4</th>\n",
       "      <td>https://www.coursera.org/learn/applied-data-sc...</td>\n",
       "      <td>Applied Data Science for Data Analysts</td>\n",
       "      <td>Databricks</td>\n",
       "      <td>4.3</td>\n",
       "      <td>22</td>\n",
       "    </tr>\n",
       "  </tbody>\n",
       "</table>\n",
       "</div>"
      ],
      "text/plain": [
       "                                                 url  \\\n",
       "0  https://www.coursera.org/learn/advanced-clinic...   \n",
       "1  https://www.coursera.org/learn/advanced-data-s...   \n",
       "2  https://www.coursera.org/learn/applied-data-sc...   \n",
       "3  https://www.coursera.org/learn/applied-data-sc...   \n",
       "4  https://www.coursera.org/learn/applied-data-sc...   \n",
       "\n",
       "                                               title  \\\n",
       "0                     Advanced Clinical Data Science   \n",
       "1                     Advanced Data Science Capstone   \n",
       "2                      Applied Data Science Capstone   \n",
       "3  ÙØ§Ø¨Ø³ØªÙÙ Ø¹ÙÙÙ\n",
       " Ø§ÙØ¨ÙØ§ÙØ§Øª Ø§ÙØ...   \n",
       "4             Applied Data Science for Data Analysts   \n",
       "\n",
       "                        provider rating num_ratings  \n",
       "0  University of Colorado System   None        None  \n",
       "1                            IBM    4.6         355  \n",
       "2                            IBM    4.7       5,401  \n",
       "3                            IBM   None        None  \n",
       "4                     Databricks    4.3          22  "
      ]
     },
     "execution_count": 7,
     "metadata": {},
     "output_type": "execute_result"
    }
   ],
   "source": [
    "# Xem 5 dòng đầu của file \"correct_courses.tsv\"\n",
    "df = pandas.read_csv('correct_courses.tsv', sep='\\t')\n",
    "df.head()"
   ]
  },
  {
   "cell_type": "code",
   "execution_count": 17,
   "metadata": {
    "Collapsed": "false",
    "deletable": false,
    "nbgrader": {
     "cell_type": "code",
     "checksum": "ad654bbdaeb45a81935b1538c6edb1e5",
     "grade": false,
     "grade_id": "cell-dc3850a3d53d80be",
     "locked": false,
     "schema_version": 3,
     "solution": true,
     "task": false
    }
   },
   "outputs": [],
   "source": [
    "def collect_courses(course_urls_file, key_words, courses_file):\n",
    "    # YOUR CODE HERE\n",
    "    #raise NotImplementedError()\n",
    "    titles, providers, ratings, num_ratings = [], [], [], []\n",
    "    course_with_keywords = []\n",
    "    with open(course_urls_file, 'r') as f:\n",
    "        for line in f:\n",
    "            for key in key_words:\n",
    "                if re.findall(key, line):\n",
    "                    course_with_keywords.append(line.strip('\\n'))\n",
    "    #course_with_keywords = [ele for ele in course_with_keywords if ele] \n",
    "    #print(course_with_keywords)\n",
    "    for course_url in course_with_keywords:\n",
    "        time.sleep(sleep_time) #avoid hitting web multi time\n",
    "        r = requests.get(course_url)\n",
    "        soup = BeautifulSoup(r.content, \"html.parser\")\n",
    "        # get title\n",
    "        title = soup.find(\"h1\", class_=\"banner-title\").text\n",
    "        titles.append(title)\n",
    "        # get single provider\n",
    "        #provider = soup.find(\"h3\", class_=\"rc-Partner__title\").text\n",
    "        # get multi provider\n",
    "        provider = [x.get_text() for x in soup.find_all('h3', attrs={'class': 'rc-Partner__title'})]\n",
    "        provider = ' '.join(provider)\n",
    "        providers.append(provider)\n",
    "        # get rating \n",
    "        rating = soup.find('span', class_=\"rating-text\")\n",
    "        if rating is not None:\n",
    "            ratings.append(rating.text)\n",
    "        else:\n",
    "            ratings.append(None)\n",
    "        # get num rating\n",
    "        #num_rating = soup.find('div', class_=\"ratings-count-expertise-style\")\n",
    "        num_rating = soup.find('div', class_=\"_wmgtrl9 m-r-1s color-white\")\n",
    "        if num_rating is not None:\n",
    "            num_ratings.append(num_rating.text)\n",
    "        else:\n",
    "            num_ratings.append(None)\n",
    "    #print(titles)\n",
    "    #print(providers)\n",
    "    new_ratings = []\n",
    "    for rat in ratings:\n",
    "        if rat is not None:\n",
    "            new_rat = rat.replace(\"stars\", \"\")\n",
    "            new_ratings.append(new_rat)\n",
    "        else:\n",
    "            new_ratings.append(\"None\")\n",
    "    #print(new_ratings)\n",
    "    new_num_ratings = []\n",
    "    for num in num_ratings:\n",
    "        if num is not None:\n",
    "            new_num = num.replace(\"ratings\", \"\")\n",
    "            new_num_ratings.append(new_num)\n",
    "        else:\n",
    "            new_num_ratings.append(\"None\")\n",
    "    #print(new_num_ratings)\n",
    "    #save to file\n",
    "    courses_df = [course_with_keywords, titles, providers, new_ratings, new_num_ratings]\n",
    "    df = pandas.DataFrame(courses_df).transpose()\n",
    "    df.columns = ['url', 'title', 'provider', 'rating', 'num_ratings'] \n",
    "    df.to_csv(courses_file, sep='\\t', index=False, header=True, encoding='utf-8')"
   ]
  },
  {
   "cell_type": "code",
   "execution_count": 18,
   "metadata": {
    "Collapsed": "false",
    "deletable": false,
    "editable": false,
    "nbgrader": {
     "cell_type": "code",
     "checksum": "fd8ee1143591c57784463b548fd69d1f",
     "grade": true,
     "grade_id": "cell-f7ba8a08f45c6cf9",
     "locked": true,
     "points": 4,
     "schema_version": 3,
     "solution": false,
     "task": false
    }
   },
   "outputs": [],
   "source": [
    "# TEST\n",
    "collect_courses('course_urls.txt', ['data-science', 'datascience'], 'courses.tsv')\n",
    "courses = pandas.read_csv('courses.tsv', sep='\\t')\n",
    "\n",
    "# Test số dòng và số cột\n",
    "assert courses.shape == (46, 5) \n",
    "\n",
    "# Test số lượng giá trị thiếu của rating\n",
    "assert (courses.rating == 'None').sum() >= 16 "
   ]
  },
  {
   "cell_type": "code",
   "execution_count": 19,
   "metadata": {
    "Collapsed": "false",
    "deletable": false,
    "editable": false,
    "nbgrader": {
     "cell_type": "code",
     "checksum": "7eef6e0f1cb1ac76977f51167d45bdc5",
     "grade": false,
     "grade_id": "cell-69bae8100b51ecac",
     "locked": true,
     "schema_version": 3,
     "solution": false,
     "task": false
    }
   },
   "outputs": [
    {
     "data": {
      "text/html": [
       "<div>\n",
       "<style scoped>\n",
       "    .dataframe tbody tr th:only-of-type {\n",
       "        vertical-align: middle;\n",
       "    }\n",
       "\n",
       "    .dataframe tbody tr th {\n",
       "        vertical-align: top;\n",
       "    }\n",
       "\n",
       "    .dataframe thead th {\n",
       "        text-align: right;\n",
       "    }\n",
       "</style>\n",
       "<table border=\"1\" class=\"dataframe\">\n",
       "  <thead>\n",
       "    <tr style=\"text-align: right;\">\n",
       "      <th></th>\n",
       "      <th>url</th>\n",
       "      <th>title</th>\n",
       "      <th>provider</th>\n",
       "      <th>rating</th>\n",
       "      <th>num_ratings</th>\n",
       "    </tr>\n",
       "  </thead>\n",
       "  <tbody>\n",
       "    <tr>\n",
       "      <th>0</th>\n",
       "      <td>https://www.coursera.org/learn/advanced-clinic...</td>\n",
       "      <td>Advanced Clinical Data Science</td>\n",
       "      <td>University of Colorado System</td>\n",
       "      <td>None</td>\n",
       "      <td>None</td>\n",
       "    </tr>\n",
       "    <tr>\n",
       "      <th>1</th>\n",
       "      <td>https://www.coursera.org/learn/advanced-data-s...</td>\n",
       "      <td>Advanced Data Science Capstone</td>\n",
       "      <td>IBM</td>\n",
       "      <td>4.6</td>\n",
       "      <td>None</td>\n",
       "    </tr>\n",
       "    <tr>\n",
       "      <th>2</th>\n",
       "      <td>https://www.coursera.org/learn/applied-data-sc...</td>\n",
       "      <td>Applied Data Science Capstone</td>\n",
       "      <td>IBM</td>\n",
       "      <td>4.7</td>\n",
       "      <td>None</td>\n",
       "    </tr>\n",
       "    <tr>\n",
       "      <th>3</th>\n",
       "      <td>https://www.coursera.org/learn/applied-data-sc...</td>\n",
       "      <td>كابستون علوم البيانات التطبيقية</td>\n",
       "      <td>IBM</td>\n",
       "      <td>None</td>\n",
       "      <td>None</td>\n",
       "    </tr>\n",
       "    <tr>\n",
       "      <th>4</th>\n",
       "      <td>https://www.coursera.org/learn/applied-data-sc...</td>\n",
       "      <td>Applied Data Science for Data Analysts</td>\n",
       "      <td>Databricks</td>\n",
       "      <td>4.3</td>\n",
       "      <td>None</td>\n",
       "    </tr>\n",
       "    <tr>\n",
       "      <th>5</th>\n",
       "      <td>https://www.coursera.org/learn/build-data-scie...</td>\n",
       "      <td>Building a Data Science Team</td>\n",
       "      <td>Johns Hopkins University</td>\n",
       "      <td>4.5</td>\n",
       "      <td>None</td>\n",
       "    </tr>\n",
       "    <tr>\n",
       "      <th>6</th>\n",
       "      <td>https://www.coursera.org/learn/code-free-data-...</td>\n",
       "      <td>Code Free Data Science</td>\n",
       "      <td>University of California San Diego</td>\n",
       "      <td>4.4</td>\n",
       "      <td>None</td>\n",
       "    </tr>\n",
       "    <tr>\n",
       "      <th>7</th>\n",
       "      <td>https://www.coursera.org/learn/competitive-dat...</td>\n",
       "      <td>How to Win a Data Science Competition: Learn f...</td>\n",
       "      <td>HSE University</td>\n",
       "      <td>4.7</td>\n",
       "      <td>1,090</td>\n",
       "    </tr>\n",
       "    <tr>\n",
       "      <th>8</th>\n",
       "      <td>https://www.coursera.org/learn/cybersecurity-f...</td>\n",
       "      <td>Cybersecurity for Data Science</td>\n",
       "      <td>University of Colorado Boulder</td>\n",
       "      <td>None</td>\n",
       "      <td>None</td>\n",
       "    </tr>\n",
       "    <tr>\n",
       "      <th>9</th>\n",
       "      <td>https://www.coursera.org/learn/data-science-as...</td>\n",
       "      <td>Data Science as a Field</td>\n",
       "      <td>University of Colorado Boulder</td>\n",
       "      <td>None</td>\n",
       "      <td>None</td>\n",
       "    </tr>\n",
       "    <tr>\n",
       "      <th>10</th>\n",
       "      <td>https://www.coursera.org/learn/data-science-co...</td>\n",
       "      <td>A Crash Course in Data Science</td>\n",
       "      <td>Johns Hopkins University</td>\n",
       "      <td>4.5</td>\n",
       "      <td>None</td>\n",
       "    </tr>\n",
       "    <tr>\n",
       "      <th>11</th>\n",
       "      <td>https://www.coursera.org/learn/data-science-et...</td>\n",
       "      <td>Data Science Ethics</td>\n",
       "      <td>University of Michigan</td>\n",
       "      <td>4.8</td>\n",
       "      <td>None</td>\n",
       "    </tr>\n",
       "    <tr>\n",
       "      <th>12</th>\n",
       "      <td>https://www.coursera.org/learn/data-science-fo...</td>\n",
       "      <td>Data Science for Business Innovation</td>\n",
       "      <td>EIT Digital  Politecnico di Milano</td>\n",
       "      <td>4.2</td>\n",
       "      <td>154</td>\n",
       "    </tr>\n",
       "    <tr>\n",
       "      <th>13</th>\n",
       "      <td>https://www.coursera.org/learn/data-science-fu...</td>\n",
       "      <td>Data Science Fundamentals for Data Analysts</td>\n",
       "      <td>Databricks</td>\n",
       "      <td>4.2</td>\n",
       "      <td>13</td>\n",
       "    </tr>\n",
       "    <tr>\n",
       "      <th>14</th>\n",
       "      <td>https://www.coursera.org/learn/data-science-k-...</td>\n",
       "      <td>Foundations of Data Science: K-Means Clusterin...</td>\n",
       "      <td>University of London Goldsmiths, University of...</td>\n",
       "      <td>4.6</td>\n",
       "      <td>320</td>\n",
       "    </tr>\n",
       "    <tr>\n",
       "      <th>15</th>\n",
       "      <td>https://www.coursera.org/learn/data-science-ma...</td>\n",
       "      <td>Data Science on Google Cloud: Machine Learning</td>\n",
       "      <td>Google Cloud</td>\n",
       "      <td>None</td>\n",
       "      <td>None</td>\n",
       "    </tr>\n",
       "    <tr>\n",
       "      <th>16</th>\n",
       "      <td>https://www.coursera.org/learn/data-science-me...</td>\n",
       "      <td>Data Science Methodology</td>\n",
       "      <td>IBM</td>\n",
       "      <td>4.6</td>\n",
       "      <td>None</td>\n",
       "    </tr>\n",
       "    <tr>\n",
       "      <th>17</th>\n",
       "      <td>https://www.coursera.org/learn/data-science-me...</td>\n",
       "      <td>منهجية علم البيانات</td>\n",
       "      <td>IBM</td>\n",
       "      <td>None</td>\n",
       "      <td>None</td>\n",
       "    </tr>\n",
       "    <tr>\n",
       "      <th>18</th>\n",
       "      <td>https://www.coursera.org/learn/data-science-pr...</td>\n",
       "      <td>Data Science Capstone</td>\n",
       "      <td>Johns Hopkins University</td>\n",
       "      <td>4.5</td>\n",
       "      <td>None</td>\n",
       "    </tr>\n",
       "    <tr>\n",
       "      <th>19</th>\n",
       "      <td>https://www.coursera.org/learn/data-science-wi...</td>\n",
       "      <td>Data Science with R - Capstone Project</td>\n",
       "      <td>IBM</td>\n",
       "      <td>None</td>\n",
       "      <td>None</td>\n",
       "    </tr>\n",
       "    <tr>\n",
       "      <th>20</th>\n",
       "      <td>https://www.coursera.org/learn/datasciencemath...</td>\n",
       "      <td>Data Science Math Skills</td>\n",
       "      <td>Duke University</td>\n",
       "      <td>4.5</td>\n",
       "      <td>None</td>\n",
       "    </tr>\n",
       "    <tr>\n",
       "      <th>21</th>\n",
       "      <td>https://www.coursera.org/learn/ethical-issues-...</td>\n",
       "      <td>Ethical Issues in Data Science</td>\n",
       "      <td>University of Colorado Boulder</td>\n",
       "      <td>None</td>\n",
       "      <td>None</td>\n",
       "    </tr>\n",
       "    <tr>\n",
       "      <th>22</th>\n",
       "      <td>https://www.coursera.org/learn/executive-data-...</td>\n",
       "      <td>Executive Data Science Capstone</td>\n",
       "      <td>Johns Hopkins University</td>\n",
       "      <td>4.7</td>\n",
       "      <td>1,493</td>\n",
       "    </tr>\n",
       "    <tr>\n",
       "      <th>23</th>\n",
       "      <td>https://www.coursera.org/learn/genomic-data-sc...</td>\n",
       "      <td>Genomic Data Science Capstone</td>\n",
       "      <td>Johns Hopkins University</td>\n",
       "      <td>4.5</td>\n",
       "      <td>None</td>\n",
       "    </tr>\n",
       "    <tr>\n",
       "      <th>24</th>\n",
       "      <td>https://www.coursera.org/learn/intro-analytict...</td>\n",
       "      <td>Intro to Analytic Thinking, Data Science, and ...</td>\n",
       "      <td>University of California, Irvine</td>\n",
       "      <td>4.0</td>\n",
       "      <td>None</td>\n",
       "    </tr>\n",
       "    <tr>\n",
       "      <th>25</th>\n",
       "      <td>https://www.coursera.org/learn/introduction-cl...</td>\n",
       "      <td>Introduction to Clinical Data Science</td>\n",
       "      <td>University of Colorado System</td>\n",
       "      <td>4.6</td>\n",
       "      <td>None</td>\n",
       "    </tr>\n",
       "    <tr>\n",
       "      <th>26</th>\n",
       "      <td>https://www.coursera.org/learn/introducton-r-p...</td>\n",
       "      <td>Introduction to R Programming for Data Science</td>\n",
       "      <td>IBM</td>\n",
       "      <td>4.9</td>\n",
       "      <td>None</td>\n",
       "    </tr>\n",
       "    <tr>\n",
       "      <th>27</th>\n",
       "      <td>https://www.coursera.org/learn/open-source-too...</td>\n",
       "      <td>Tools for Data Science</td>\n",
       "      <td>IBM</td>\n",
       "      <td>4.5</td>\n",
       "      <td>None</td>\n",
       "    </tr>\n",
       "    <tr>\n",
       "      <th>28</th>\n",
       "      <td>https://www.coursera.org/learn/probability-the...</td>\n",
       "      <td>Probability Theory: Foundation for Data Science</td>\n",
       "      <td>University of Colorado Boulder</td>\n",
       "      <td>None</td>\n",
       "      <td>None</td>\n",
       "    </tr>\n",
       "    <tr>\n",
       "      <th>29</th>\n",
       "      <td>https://www.coursera.org/learn/python-for-appl...</td>\n",
       "      <td>Python for Data Science, AI &amp; Development</td>\n",
       "      <td>IBM</td>\n",
       "      <td>4.6</td>\n",
       "      <td>None</td>\n",
       "    </tr>\n",
       "    <tr>\n",
       "      <th>30</th>\n",
       "      <td>https://www.coursera.org/learn/python-for-appl...</td>\n",
       "      <td>بايثون لعلوم البيانات والذكاء الصناعي</td>\n",
       "      <td>IBM</td>\n",
       "      <td>None</td>\n",
       "      <td>None</td>\n",
       "    </tr>\n",
       "    <tr>\n",
       "      <th>31</th>\n",
       "      <td>https://www.coursera.org/learn/python-per-la-d...</td>\n",
       "      <td>Python per la Data Science</td>\n",
       "      <td>Università di Napoli Federico II</td>\n",
       "      <td>None</td>\n",
       "      <td>None</td>\n",
       "    </tr>\n",
       "    <tr>\n",
       "      <th>32</th>\n",
       "      <td>https://www.coursera.org/learn/python-project-...</td>\n",
       "      <td>Python Project for Data Science</td>\n",
       "      <td>IBM</td>\n",
       "      <td>4.4</td>\n",
       "      <td>None</td>\n",
       "    </tr>\n",
       "    <tr>\n",
       "      <th>33</th>\n",
       "      <td>https://www.coursera.org/learn/real-life-data-...</td>\n",
       "      <td>Data Science in Real Life</td>\n",
       "      <td>Johns Hopkins University</td>\n",
       "      <td>4.4</td>\n",
       "      <td>None</td>\n",
       "    </tr>\n",
       "    <tr>\n",
       "      <th>34</th>\n",
       "      <td>https://www.coursera.org/learn/spatial-data-sc...</td>\n",
       "      <td>Spatial Data Science and Applications</td>\n",
       "      <td>Yonsei University</td>\n",
       "      <td>4.4</td>\n",
       "      <td>401</td>\n",
       "    </tr>\n",
       "    <tr>\n",
       "      <th>35</th>\n",
       "      <td>https://www.coursera.org/learn/sql-data-science</td>\n",
       "      <td>Databases and SQL for Data Science with Python</td>\n",
       "      <td>IBM</td>\n",
       "      <td>4.7</td>\n",
       "      <td>None</td>\n",
       "    </tr>\n",
       "    <tr>\n",
       "      <th>36</th>\n",
       "      <td>https://www.coursera.org/learn/sql-data-scienc...</td>\n",
       "      <td>قواعد البيانات وSQL (لغة الاستعلام البنيوية) ل...</td>\n",
       "      <td>IBM</td>\n",
       "      <td>None</td>\n",
       "      <td>None</td>\n",
       "    </tr>\n",
       "    <tr>\n",
       "      <th>37</th>\n",
       "      <td>https://www.coursera.org/learn/sql-data-scienc...</td>\n",
       "      <td>SQL for Data Science Capstone Project</td>\n",
       "      <td>University of California, Davis</td>\n",
       "      <td>3.9</td>\n",
       "      <td>None</td>\n",
       "    </tr>\n",
       "    <tr>\n",
       "      <th>38</th>\n",
       "      <td>https://www.coursera.org/learn/sql-data-science-r</td>\n",
       "      <td>SQL for Data Science with R</td>\n",
       "      <td>IBM</td>\n",
       "      <td>None</td>\n",
       "      <td>None</td>\n",
       "    </tr>\n",
       "    <tr>\n",
       "      <th>39</th>\n",
       "      <td>https://www.coursera.org/learn/sql-for-data-sc...</td>\n",
       "      <td>SQL for Data Science</td>\n",
       "      <td>University of California, Davis</td>\n",
       "      <td>4.6</td>\n",
       "      <td>None</td>\n",
       "    </tr>\n",
       "    <tr>\n",
       "      <th>40</th>\n",
       "      <td>https://www.coursera.org/learn/sql-for-data-sc...</td>\n",
       "      <td>‏SQL لعلوم البيانات</td>\n",
       "      <td>University of California, Davis</td>\n",
       "      <td>None</td>\n",
       "      <td>None</td>\n",
       "    </tr>\n",
       "    <tr>\n",
       "      <th>41</th>\n",
       "      <td>https://www.coursera.org/learn/statistical-inf...</td>\n",
       "      <td>Statistical Inference for Estimation in Data S...</td>\n",
       "      <td>University of Colorado Boulder</td>\n",
       "      <td>None</td>\n",
       "      <td>None</td>\n",
       "    </tr>\n",
       "    <tr>\n",
       "      <th>42</th>\n",
       "      <td>https://www.coursera.org/learn/statistics-for-...</td>\n",
       "      <td>Statistics for Data Science with Python</td>\n",
       "      <td>IBM</td>\n",
       "      <td>4.6</td>\n",
       "      <td>None</td>\n",
       "    </tr>\n",
       "    <tr>\n",
       "      <th>43</th>\n",
       "      <td>https://www.coursera.org/learn/the-data-scienc...</td>\n",
       "      <td>The Data Science of Health Informatics</td>\n",
       "      <td>Johns Hopkins University</td>\n",
       "      <td>4.7</td>\n",
       "      <td>None</td>\n",
       "    </tr>\n",
       "    <tr>\n",
       "      <th>44</th>\n",
       "      <td>https://www.coursera.org/learn/what-is-datasci...</td>\n",
       "      <td>What is Data Science?</td>\n",
       "      <td>IBM</td>\n",
       "      <td>4.7</td>\n",
       "      <td>None</td>\n",
       "    </tr>\n",
       "    <tr>\n",
       "      <th>45</th>\n",
       "      <td>https://www.coursera.org/learn/what-is-datasci...</td>\n",
       "      <td>ما علم البيانات؟</td>\n",
       "      <td>IBM</td>\n",
       "      <td>None</td>\n",
       "      <td>None</td>\n",
       "    </tr>\n",
       "  </tbody>\n",
       "</table>\n",
       "</div>"
      ],
      "text/plain": [
       "                                                  url  \\\n",
       "0   https://www.coursera.org/learn/advanced-clinic...   \n",
       "1   https://www.coursera.org/learn/advanced-data-s...   \n",
       "2   https://www.coursera.org/learn/applied-data-sc...   \n",
       "3   https://www.coursera.org/learn/applied-data-sc...   \n",
       "4   https://www.coursera.org/learn/applied-data-sc...   \n",
       "5   https://www.coursera.org/learn/build-data-scie...   \n",
       "6   https://www.coursera.org/learn/code-free-data-...   \n",
       "7   https://www.coursera.org/learn/competitive-dat...   \n",
       "8   https://www.coursera.org/learn/cybersecurity-f...   \n",
       "9   https://www.coursera.org/learn/data-science-as...   \n",
       "10  https://www.coursera.org/learn/data-science-co...   \n",
       "11  https://www.coursera.org/learn/data-science-et...   \n",
       "12  https://www.coursera.org/learn/data-science-fo...   \n",
       "13  https://www.coursera.org/learn/data-science-fu...   \n",
       "14  https://www.coursera.org/learn/data-science-k-...   \n",
       "15  https://www.coursera.org/learn/data-science-ma...   \n",
       "16  https://www.coursera.org/learn/data-science-me...   \n",
       "17  https://www.coursera.org/learn/data-science-me...   \n",
       "18  https://www.coursera.org/learn/data-science-pr...   \n",
       "19  https://www.coursera.org/learn/data-science-wi...   \n",
       "20  https://www.coursera.org/learn/datasciencemath...   \n",
       "21  https://www.coursera.org/learn/ethical-issues-...   \n",
       "22  https://www.coursera.org/learn/executive-data-...   \n",
       "23  https://www.coursera.org/learn/genomic-data-sc...   \n",
       "24  https://www.coursera.org/learn/intro-analytict...   \n",
       "25  https://www.coursera.org/learn/introduction-cl...   \n",
       "26  https://www.coursera.org/learn/introducton-r-p...   \n",
       "27  https://www.coursera.org/learn/open-source-too...   \n",
       "28  https://www.coursera.org/learn/probability-the...   \n",
       "29  https://www.coursera.org/learn/python-for-appl...   \n",
       "30  https://www.coursera.org/learn/python-for-appl...   \n",
       "31  https://www.coursera.org/learn/python-per-la-d...   \n",
       "32  https://www.coursera.org/learn/python-project-...   \n",
       "33  https://www.coursera.org/learn/real-life-data-...   \n",
       "34  https://www.coursera.org/learn/spatial-data-sc...   \n",
       "35    https://www.coursera.org/learn/sql-data-science   \n",
       "36  https://www.coursera.org/learn/sql-data-scienc...   \n",
       "37  https://www.coursera.org/learn/sql-data-scienc...   \n",
       "38  https://www.coursera.org/learn/sql-data-science-r   \n",
       "39  https://www.coursera.org/learn/sql-for-data-sc...   \n",
       "40  https://www.coursera.org/learn/sql-for-data-sc...   \n",
       "41  https://www.coursera.org/learn/statistical-inf...   \n",
       "42  https://www.coursera.org/learn/statistics-for-...   \n",
       "43  https://www.coursera.org/learn/the-data-scienc...   \n",
       "44  https://www.coursera.org/learn/what-is-datasci...   \n",
       "45  https://www.coursera.org/learn/what-is-datasci...   \n",
       "\n",
       "                                                title  \\\n",
       "0                      Advanced Clinical Data Science   \n",
       "1                      Advanced Data Science Capstone   \n",
       "2                       Applied Data Science Capstone   \n",
       "3                     كابستون علوم البيانات التطبيقية   \n",
       "4              Applied Data Science for Data Analysts   \n",
       "5                        Building a Data Science Team   \n",
       "6                              Code Free Data Science   \n",
       "7   How to Win a Data Science Competition: Learn f...   \n",
       "8                      Cybersecurity for Data Science   \n",
       "9                             Data Science as a Field   \n",
       "10                     A Crash Course in Data Science   \n",
       "11                                Data Science Ethics   \n",
       "12               Data Science for Business Innovation   \n",
       "13        Data Science Fundamentals for Data Analysts   \n",
       "14  Foundations of Data Science: K-Means Clusterin...   \n",
       "15     Data Science on Google Cloud: Machine Learning   \n",
       "16                           Data Science Methodology   \n",
       "17                                منهجية علم البيانات   \n",
       "18                              Data Science Capstone   \n",
       "19             Data Science with R - Capstone Project   \n",
       "20                           Data Science Math Skills   \n",
       "21                     Ethical Issues in Data Science   \n",
       "22                    Executive Data Science Capstone   \n",
       "23                      Genomic Data Science Capstone   \n",
       "24  Intro to Analytic Thinking, Data Science, and ...   \n",
       "25              Introduction to Clinical Data Science   \n",
       "26     Introduction to R Programming for Data Science   \n",
       "27                             Tools for Data Science   \n",
       "28    Probability Theory: Foundation for Data Science   \n",
       "29          Python for Data Science, AI & Development   \n",
       "30              بايثون لعلوم البيانات والذكاء الصناعي   \n",
       "31                         Python per la Data Science   \n",
       "32                    Python Project for Data Science   \n",
       "33                          Data Science in Real Life   \n",
       "34              Spatial Data Science and Applications   \n",
       "35     Databases and SQL for Data Science with Python   \n",
       "36  قواعد البيانات وSQL (لغة الاستعلام البنيوية) ل...   \n",
       "37              SQL for Data Science Capstone Project   \n",
       "38                        SQL for Data Science with R   \n",
       "39                               SQL for Data Science   \n",
       "40                                ‏SQL لعلوم البيانات   \n",
       "41  Statistical Inference for Estimation in Data S...   \n",
       "42            Statistics for Data Science with Python   \n",
       "43             The Data Science of Health Informatics   \n",
       "44                             What is Data Science?    \n",
       "45                                   ما علم البيانات؟   \n",
       "\n",
       "                                             provider rating num_ratings  \n",
       "0                       University of Colorado System   None        None  \n",
       "1                                                 IBM    4.6        None  \n",
       "2                                                 IBM    4.7        None  \n",
       "3                                                 IBM   None        None  \n",
       "4                                          Databricks    4.3        None  \n",
       "5                            Johns Hopkins University    4.5        None  \n",
       "6                  University of California San Diego    4.4        None  \n",
       "7                                      HSE University    4.7      1,090   \n",
       "8                      University of Colorado Boulder   None        None  \n",
       "9                      University of Colorado Boulder   None        None  \n",
       "10                           Johns Hopkins University    4.5        None  \n",
       "11                             University of Michigan    4.8        None  \n",
       "12                 EIT Digital  Politecnico di Milano    4.2        154   \n",
       "13                                         Databricks    4.2         13   \n",
       "14  University of London Goldsmiths, University of...    4.6        320   \n",
       "15                                       Google Cloud   None        None  \n",
       "16                                                IBM    4.6        None  \n",
       "17                                                IBM   None        None  \n",
       "18                           Johns Hopkins University    4.5        None  \n",
       "19                                                IBM   None        None  \n",
       "20                                    Duke University    4.5        None  \n",
       "21                     University of Colorado Boulder   None        None  \n",
       "22                           Johns Hopkins University    4.7      1,493   \n",
       "23                           Johns Hopkins University    4.5        None  \n",
       "24                   University of California, Irvine    4.0        None  \n",
       "25                      University of Colorado System    4.6        None  \n",
       "26                                                IBM    4.9        None  \n",
       "27                                                IBM    4.5        None  \n",
       "28                     University of Colorado Boulder   None        None  \n",
       "29                                                IBM    4.6        None  \n",
       "30                                                IBM   None        None  \n",
       "31                   Università di Napoli Federico II   None        None  \n",
       "32                                                IBM    4.4        None  \n",
       "33                           Johns Hopkins University    4.4        None  \n",
       "34                                  Yonsei University    4.4        401   \n",
       "35                                                IBM    4.7        None  \n",
       "36                                                IBM   None        None  \n",
       "37                    University of California, Davis    3.9        None  \n",
       "38                                                IBM   None        None  \n",
       "39                    University of California, Davis    4.6        None  \n",
       "40                    University of California, Davis   None        None  \n",
       "41                     University of Colorado Boulder   None        None  \n",
       "42                                                IBM    4.6        None  \n",
       "43                           Johns Hopkins University    4.7        None  \n",
       "44                                                IBM    4.7        None  \n",
       "45                                                IBM   None        None  "
      ]
     },
     "execution_count": 19,
     "metadata": {},
     "output_type": "execute_result"
    }
   ],
   "source": [
    "# TEST (bằng mắt)\n",
    "courses"
   ]
  },
  {
   "cell_type": "markdown",
   "metadata": {
    "Collapsed": "false",
    "toc-hr-collapsed": false
   },
   "source": [
    "---"
   ]
  },
  {
   "cell_type": "markdown",
   "metadata": {
    "Collapsed": "false",
    "toc-hr-collapsed": false
   },
   "source": [
    "## Thu thập dữ liệu từ web bằng cách dùng web API"
   ]
  },
  {
   "cell_type": "markdown",
   "metadata": {
    "Collapsed": "false",
    "toc-hr-collapsed": false
   },
   "source": [
    "Trong phần này, bạn sẽ dùng GitHub API để thu thập các thùng chứa về Data Science. Để đơn giản, bạn sẽ dùng API không chứng thực (không cần đăng ký tài khoản, không cần key) của GitHub. "
   ]
  },
  {
   "cell_type": "markdown",
   "metadata": {
    "Collapsed": "false"
   },
   "source": [
    "### Thu thập ít hơn hoặc bằng 1000 thùng chứa (2.5đ)"
   ]
  },
  {
   "cell_type": "markdown",
   "metadata": {
    "Collapsed": "false"
   },
   "source": [
    "Đầu tiên, bạn sẽ viết hàm `collect_repositories` ở bên dưới. Hàm này có các input:\n",
    "- `start_date` và `end_date`: là chuỗi, cho biết là muốn tìm các thùng chứa được tạo từ ngày nào đến ngày nào (bao gồm cả 2 đầu). Ví dụ, `start_date='2017-01-01'` (năm-tháng-ngày) và `end_date='2017-01-31'`.\n",
    "- `keyword`: là chuỗi, cho biết là muốn tìm kiếm các thùng chứa với từ khóa nào (xuất hiện ở tên thùng chứa hoặc phần mô tả của thùng chứa). Ví dụ, `keyword='data science'`.\n",
    "- `per_page`: là số nguyên, cho biết là muốn bao nhiêu kết quả trên một page. Hiện giờ GitHub cho tối đa là `per_page=100`.\n",
    "\n",
    "Trong hàm này bạn sẽ vào đường link `f'https://api.github.com/search/repositories?q={keyword} created:{start_date}..{end_date}&per_page={per_page}'` (dạng f-string trong Python) để thu thập dữ liệu. Ví dụ, bạn có thể vào thử ở web browser: https://api.github.com/search/repositories?q=data%20science%20created:2017-01-01..2017-01-31&per_page=100 (khi nhập một đường link vào web browser và enter thì một số ký tự sẽ bị mã hóa; ví dụ khoảng trắng sẽ bị mã hóa là %20 hoặc +), hoặc dùng thư viện Requests:"
   ]
  },
  {
   "cell_type": "code",
   "execution_count": 19,
   "metadata": {
    "Collapsed": "false"
   },
   "outputs": [],
   "source": [
    "# Thư viện requests sẽ tự động mã hóa khoảng trắng cho bạn\n",
    "# Bạn có thể xem đường link sau khi đã mã hóa bằng câu lệnh: r.url\n",
    "r = requests.get('https://api.github.com/search/repositories?q=data science created:2017-01-01..2017-01-31&per_page=100')"
   ]
  },
  {
   "cell_type": "code",
   "execution_count": 20,
   "metadata": {
    "Collapsed": "false"
   },
   "outputs": [
    {
     "name": "stdout",
     "output_type": "stream",
     "text": [
      "{\"total_count\":1549,\"incomplete_results\":false,\"items\":[{\"id\":79030157,\"node_id\":\"MDEwOlJlcG9zaXRvcn\n"
     ]
    }
   ],
   "source": [
    "# Xem 100 ký tự đầu tiên trong chuỗi JSON lấy được\n",
    "print(r.text[:100])"
   ]
  },
  {
   "cell_type": "markdown",
   "metadata": {
    "Collapsed": "false"
   },
   "source": [
    "Bạn thấy \"total_count\" có giá trị là 1549, nghĩa là tìm được 1549 thùng chứa (tại thời điểm bạn chạy thì có thể khác một ít, vì có thể xảy ra trường hợp chủ thùng chứa xóa thùng chứa đi, hoặc chuyển sang private). Tuy nhiên, đây chỉ là trang đầu tiên và chỉ có 100 thùng chứa (số lượng phần tử của \"items\"). Link tới trang kế tiếp nằm trong headers của nội dung gửi về từ server."
   ]
  },
  {
   "cell_type": "code",
   "execution_count": 21,
   "metadata": {
    "Collapsed": "false"
   },
   "outputs": [
    {
     "data": {
      "text/plain": [
       "'<https://api.github.com/search/repositories?q=data+science+created%3A2017-01-01..2017-01-31&per_page=100&page=2>; rel=\"next\", <https://api.github.com/search/repositories?q=data+science+created%3A2017-01-01..2017-01-31&per_page=100&page=10>; rel=\"last\"'"
      ]
     },
     "execution_count": 21,
     "metadata": {},
     "output_type": "execute_result"
    }
   ],
   "source": [
    "r.headers['Link']"
   ]
  },
  {
   "cell_type": "markdown",
   "metadata": {
    "Collapsed": "false"
   },
   "source": [
    "Link tới trang kế tiếp là link mà ở bên cạnh phía phải có từ `rel=\"next\"`. `rel=\"last\"` nghĩa là trang cuối. Vì đây là trang đầu tiên nên chỉ có \"next\" và \"last\", trang ở giữa còn có thêm \"first\" (trang đầu) và \"prev\" (trang trước). Bạn có thể xem thêm ở [document](https://docs.github.com/en/free-pro-team@latest/rest/guides/traversing-with-pagination).\n",
    "\n",
    "Nếu để ý thì bạn thấy trang cuối là `page=10`, nghĩa là tất cả các trang chỉ có $10\\times100=1000$ thùng chứa. Trong khi đó, \"total_count\" là 1549. Lý do: \"the GitHub Search API provides up to **1,000 results for each search**\" ([document](https://docs.github.com/en/free-pro-team@latest/rest/reference/search)). Trong hàm này chỉ yêu cầu bạn lấy hết kết quả ở tất cả các trang là được ($\\le1000$ kết quả). Việc lấy $>1000$ kết quả sẽ làm ở phần kế tiếp.\n",
    "\n",
    "Một yêu cầu nữa trong hàm này là: \n",
    "- Khi request không được (`r.ok` có giá trị là `False`) do hết số lượng request được phép trong 1 phút (với API không chứng thực thì hiện nay được 10 request / phút) thì bạn sẽ cho chương trình sleep rồi dậy thực hiện request lại, nếu vẫn chưa được thì lại sleep ... Bạn lưu ý là, <font color=red>không được giả định lần request đầu tiên là chắc chắn thành công</font> (vì khi chấm bài mình sẽ phải chạy nhiều bài và có thể đến bài của bạn đã hết lượt request được phép).\n",
    "- Khi request được nhưng giá trị của `incomplete_results`(xem thêm ở [document](https://docs.github.com/en/free-pro-team@latest/rest/reference/search#timeouts-and-incomplete-results)) bằng `True` thì bạn cần thực hiện request lại cho đến khi `incomplete_results` bằng `False`. Bạn còn nhớ khi setup cache ở đầu, mình yêu cầu bạn không cache lại các response mà phần text có chứa chuỗi `\"incomplete_results\":True`. Vì nếu bạn cache lại các response này thì ở lần request kế sẽ được lấy từ cache và `incomplete_results` luôn bằng `True`."
   ]
  },
  {
   "cell_type": "markdown",
   "metadata": {
    "Collapsed": "false"
   },
   "source": [
    "Output trả về của hàm `collect_repositories`:\n",
    "- `repositories`: là list các thùng chứa lấy được (list gồm \"item\" của tất cả các trang)."
   ]
  },
  {
   "cell_type": "code",
   "execution_count": 22,
   "metadata": {
    "Collapsed": "false",
    "deletable": false,
    "nbgrader": {
     "cell_type": "code",
     "checksum": "20cb81a6aca154078aed4053c325d8ec",
     "grade": false,
     "grade_id": "cell-62a49f8fda9cd909",
     "locked": false,
     "schema_version": 3,
     "solution": true,
     "task": false
    }
   },
   "outputs": [],
   "source": [
    "start_page = 1 #we will have total 10 pages\n",
    "list_item = []\n",
    "\n",
    "def collect_repositories(start_date, end_date, keyword='data science', per_page=100):\n",
    "    repositories = []\n",
    "    # YOUR CODE HERE\n",
    "    #raise NotImplementedError()\n",
    "    for i in range(start_page, 11):\n",
    "        url = f'https://api.github.com/search/repositories?q={keyword} created:{start_date}..{end_date}&per_page={per_page}&page={i}'\n",
    "        r = requests.get(url)\n",
    "        if r.ok == False:\n",
    "            time.sleep(1)\n",
    "        else:\n",
    "            json_str = r.json()\n",
    "            list_item.append(json_str['items'])\n",
    "    repositories = [item for sublist in list_item for item in sublist] #flat list of list item\n",
    "    return repositories "
   ]
  },
  {
   "cell_type": "code",
   "execution_count": 23,
   "metadata": {
    "Collapsed": "false",
    "deletable": false,
    "editable": false,
    "nbgrader": {
     "cell_type": "code",
     "checksum": "4b1d4c8939c345202d0184c6cc9c1aba",
     "grade": true,
     "grade_id": "cell-f9dd722733b1a0b8",
     "locked": true,
     "points": 2.5,
     "schema_version": 3,
     "solution": false,
     "task": false
    }
   },
   "outputs": [
    {
     "name": "stdout",
     "output_type": "stream",
     "text": [
      "661\n"
     ]
    }
   ],
   "source": [
    "# TEST\n",
    "start_date = '2017-01-01'\n",
    "end_date = '2017-01-15'\n",
    "keyword = 'data science'\n",
    "per_page = 100\n",
    "repositories = collect_repositories(start_date, end_date, keyword, per_page)\n",
    "print(len(repositories))\n",
    "\n",
    "url = f'https://api.github.com/search/repositories?q={keyword} created:{start_date}..{end_date}'\n",
    "while True:\n",
    "    json_str = requests.get(url).text\n",
    "    if '\"incomplete_results\":false' in json_str:\n",
    "        i = json_str.find(':')\n",
    "        j = json_str.find(',')\n",
    "        total_count = int(json_str[i+1:j])\n",
    "        break\n",
    "assert len(repositories) == total_count "
   ]
  },
  {
   "cell_type": "markdown",
   "metadata": {
    "Collapsed": "false"
   },
   "source": [
    "### Thu thập nhiều hơn 1000 thùng chứa (2.5đ)"
   ]
  },
  {
   "cell_type": "markdown",
   "metadata": {
    "Collapsed": "false"
   },
   "source": [
    "Để thu thập hết 1549 thùng chứa trong ví dụ ở trên, ta sẽ: \n",
    "- Chia khoảng thời gian các thùng chứa được tạo mà ta cần tìm kiếm ra các khoảng thời gian nhỏ hơn. Ví dụ chia 2017-01-01..2017-01-15 thành 2017-01-01..2017-01-07, 2017-01-08..2017-01-14, 2017-01-15..2017-01-15; ở đây, mỗi khoảng thời gian nhỏ gồm 7 ngày (kể cả 2 đầu), khoảng thời gian nhỏ sau cùng có thể sẽ không đủ 7 ngày (do bị lẻ). Trong Python, để làm việc với dữ liệu thời gian, bạn có thể dùng thư viện `datetime`; bạn có thể tự tìm hiểu về thư viện này ở: [document](https://docs.python.org/3.7/library/datetime.html), [Corey's video](https://www.youtube.com/watch?v=eirjjyP2qcQ), Google.\n",
    "- Tìm kiếm với khoảng thời gian nhỏ hơn này bằng hàm `collect_repositories` ở trên (với khoảng thời gian đủ nhỏ sẽ có $\\le1000$ thùng chứa).\n",
    "- Kết hợp kết quả từ các lần tìm kiếm với các khoảng thời gian nhỏ này lại.\n",
    "\n",
    "Bạn sẽ cài đặt các bước này ở hàm `collect_all_repositories` dưới đây. Hàm này có các input:\n",
    "- `start_date`, `end_date`, `keyword`, `per_page`: các input này giống như ở hàm `collect_repositories`.\n",
    "- `step`: là số nguyên, cho biết khoảng thời gian nhỏ gồm bao nhiêu ngày (tính cả 2 đầu). Trong ví dụ ở trên, `step=7`.\n",
    "\n",
    "Output trả về của hàm này:\n",
    "- `all_repositories`: là list tất cả các thùng chứa (\"item\") lấy được."
   ]
  },
  {
   "cell_type": "code",
   "execution_count": 24,
   "metadata": {
    "Collapsed": "false",
    "deletable": false,
    "nbgrader": {
     "cell_type": "code",
     "checksum": "e58dcaf52d67ca4b5a41299b636282ab",
     "grade": false,
     "grade_id": "cell-186ad6493e39e40c",
     "locked": false,
     "schema_version": 3,
     "solution": true,
     "task": false
    }
   },
   "outputs": [],
   "source": [
    "list_item1 = []\n",
    "\n",
    "def collect_all_repositories(start_date, end_date, step, keyword='data science', per_page=100):\n",
    "    all_repositories = []\n",
    "    # YOUR CODE HERE\n",
    "    #raise NotImplementedError()\n",
    "    # process time interval\n",
    "    start = datetime.strptime(start_date,\"%Y-%m-%d\")\n",
    "    end = datetime.strptime(end_date,\"%Y-%m-%d\")\n",
    "    time_interval = []\n",
    "    for i in range(0, (end - start).days + 1, step):\n",
    "        if i != (end - start).days:\n",
    "            time_interval.append([(start + timedelta(days=i)).strftime(\"%Y-%m-%d\"), \n",
    "            (start + timedelta(days=i + (step-1))).strftime(\"%Y-%m-%d\")])\n",
    "        else:\n",
    "            time_interval.append([(start + timedelta(days=i)).strftime(\"%Y-%m-%d\"),\n",
    "            (start + timedelta(days=i)).strftime(\"%Y-%m-%d\")])\n",
    "    if time_interval[-1][-1] == end_date:\n",
    "        pass\n",
    "    else:\n",
    "        time_interval[-1][-1] = end_date\n",
    "    #print(time_interval)\n",
    "    #collect repository\n",
    "    i1 = 1 #we will have total 10 pages\n",
    "    for i, j in time_interval:\n",
    "        while i1 <= 10:\n",
    "        #for i1 in range(start_page1, 11):\n",
    "            url = f'https://api.github.com/search/repositories?q={keyword} created:{i}..{j}&per_page={per_page}&page={i1}'\n",
    "            r = requests.get(url)\n",
    "            if r.ok == False:\n",
    "                time.sleep(1)\n",
    "            else:\n",
    "                json_str = r.json()\n",
    "                #request again \n",
    "                if len(json_str['items']) == 0:\n",
    "                    i1 = 1\n",
    "                    break\n",
    "                '''\n",
    "                if json_str['incomplete_results'] == \"false\":\n",
    "                    i1 = 1\n",
    "                    break\n",
    "                '''\n",
    "                list_item1.append(json_str['items'])\n",
    "                i1 += 1\n",
    "    all_repositories = [item for sublist in list_item1 for item in sublist] #flat list of list item\n",
    "    return all_repositories"
   ]
  },
  {
   "cell_type": "code",
   "execution_count": 25,
   "metadata": {
    "Collapsed": "false",
    "deletable": false,
    "editable": false,
    "nbgrader": {
     "cell_type": "code",
     "checksum": "1828acf0ea55f3e2474428bd32a318a8",
     "grade": true,
     "grade_id": "cell-eb93b1b4dd11e993",
     "locked": true,
     "points": 2.5,
     "schema_version": 3,
     "solution": false,
     "task": false
    }
   },
   "outputs": [
    {
     "name": "stdout",
     "output_type": "stream",
     "text": [
      "1549\n"
     ]
    }
   ],
   "source": [
    "# TEST\n",
    "start_date = '2017-01-01'\n",
    "end_date = '2017-01-31'\n",
    "step = 10\n",
    "keyword = 'data science'\n",
    "per_page = 100\n",
    "all_repositories = collect_all_repositories(start_date, end_date, step, keyword, per_page)\n",
    "print(len(all_repositories))\n",
    "\n",
    "url = f'https://api.github.com/search/repositories?q={keyword} created:{start_date}..{end_date}'\n",
    "while True:\n",
    "    json_str = requests.get(url).text\n",
    "    if '\"incomplete_results\":false' in json_str:\n",
    "        i = json_str.find(':')\n",
    "        j = json_str.find(',')\n",
    "        total_count = int(json_str[i+1:j])\n",
    "        break\n",
    "assert len(all_repositories) == total_count "
   ]
  },
  {
   "cell_type": "code",
   "execution_count": null,
   "metadata": {},
   "outputs": [],
   "source": []
  }
 ],
 "metadata": {
  "kernelspec": {
   "display_name": "Python 3",
   "language": "python",
   "name": "python3"
  },
  "language_info": {
   "codemirror_mode": {
    "name": "ipython",
    "version": 3
   },
   "file_extension": ".py",
   "mimetype": "text/x-python",
   "name": "python",
   "nbconvert_exporter": "python",
   "pygments_lexer": "ipython3",
   "version": "3.6.4"
  },
  "toc": {
   "base_numbering": 1,
   "nav_menu": {},
   "number_sections": false,
   "sideBar": true,
   "skip_h1_title": false,
   "title_cell": "Table of Contents",
   "title_sidebar": "Contents",
   "toc_cell": false,
   "toc_position": {
    "height": "calc(100% - 180px)",
    "left": "10px",
    "top": "150px",
    "width": "221px"
   },
   "toc_section_display": true,
   "toc_window_display": true
  }
 },
 "nbformat": 4,
 "nbformat_minor": 4
}
